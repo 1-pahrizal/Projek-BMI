{
 "cells": [
  {
   "cell_type": "code",
   "execution_count": 4,
   "metadata": {},
   "outputs": [
    {
     "name": "stdout",
     "output_type": "stream",
     "text": [
      "Masukkan berat badan (kg) : 20.0\n",
      "Masukkan tinggi badan (m) : 29.0\n",
      "Kekurangan badan\n"
     ]
    }
   ],
   "source": [
    "\n",
    "berat=float(input(\"Masukkan berat badan (kg) : \"))\n",
    "\n",
    "tinggi=float(input(\"Masukkan tinggi badan (m) : \"))\n",
    "\n",
    "bmi = berat/(tinggi**2)\n",
    "\n",
    "if bmi < 18.5:\n",
    "\n",
    "    print(\"Kekurangan badan\")\n",
    "\n",
    "elif bmi >=18.5 and bmi <=24.9:\n",
    "\n",
    "    print(\"Ideal\")\n",
    "\n",
    "elif  bmi >=25 and bmi<=29.9:\n",
    "\n",
    "    print(\"Kelebihan badan\")\n",
    "\n",
    "else:\n",
    "\n",
    "    print(\"obesitas\")"
   ]
  },
  {
   "cell_type": "code",
   "execution_count": null,
   "metadata": {},
   "outputs": [],
   "source": [
    "\n"
   ]
  }
 ],
 "metadata": {
  "kernelspec": {
   "display_name": "Python 3",
   "language": "python",
   "name": "python3"
  },
  "language_info": {
   "codemirror_mode": {
    "name": "ipython",
    "version": 3
   },
   "file_extension": ".py",
   "mimetype": "text/x-python",
   "name": "python",
   "nbconvert_exporter": "python",
   "pygments_lexer": "ipython3",
   "version": "3.7.3"
  }
 },
 "nbformat": 4,
 "nbformat_minor": 2
}
